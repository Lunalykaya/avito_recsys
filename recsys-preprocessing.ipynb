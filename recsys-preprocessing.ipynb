{
 "cells": [
  {
   "cell_type": "code",
   "execution_count": 1,
   "id": "f15c38c7",
   "metadata": {
    "_cell_guid": "b1076dfc-b9ad-4769-8c92-a6c4dae69d19",
    "_uuid": "8f2839f25d086af736a60e9eeb907d3b93b6e0e5",
    "execution": {
     "iopub.execute_input": "2025-06-16T13:58:40.069022Z",
     "iopub.status.busy": "2025-06-16T13:58:40.068575Z",
     "iopub.status.idle": "2025-06-16T13:58:42.284844Z",
     "shell.execute_reply": "2025-06-16T13:58:42.283707Z"
    },
    "papermill": {
     "duration": 2.224095,
     "end_time": "2025-06-16T13:58:42.286692",
     "exception": false,
     "start_time": "2025-06-16T13:58:40.062597",
     "status": "completed"
    },
    "tags": []
   },
   "outputs": [
    {
     "name": "stdout",
     "output_type": "stream",
     "text": [
      "/kaggle/input/avito-ml-cup-2025-recsys-data/text_features.pq\n",
      "/kaggle/input/avito-ml-cup-2025-recsys-data/submit_example.csv\n",
      "/kaggle/input/avito-ml-cup-2025-recsys-data/test_users.pq\n",
      "/kaggle/input/avito-ml-cup-2025-recsys-data/cat_features.pq\n",
      "/kaggle/input/avito-ml-cup-2025-recsys-data/clickstream.pq\n",
      "/kaggle/input/avito-ml-cup-2025-recsys-data/events.pq\n"
     ]
    }
   ],
   "source": [
    "# This Python 3 environment comes with many helpful analytics libraries installed\n",
    "# It is defined by the kaggle/python Docker image: https://github.com/kaggle/docker-python\n",
    "# For example, here's several helpful packages to load\n",
    "\n",
    "import numpy as np # linear algebra\n",
    "import pandas as pd # data processing, CSV file I/O (e.g. pd.read_csv)\n",
    "\n",
    "# Input data files are available in the read-only \"../input/\" directory\n",
    "# For example, running this (by clicking run or pressing Shift+Enter) will list all files under the input directory\n",
    "\n",
    "import os\n",
    "for dirname, _, filenames in os.walk('/kaggle/input'):\n",
    "    for filename in filenames:\n",
    "        print(os.path.join(dirname, filename))\n",
    "\n",
    "# You can write up to 20GB to the current directory (/kaggle/working/) that gets preserved as output when you create a version using \"Save & Run All\" \n",
    "# You can also write temporary files to /kaggle/temp/, but they won't be saved outside of the current session"
   ]
  },
  {
   "cell_type": "code",
   "execution_count": 2,
   "id": "2ced9788",
   "metadata": {
    "execution": {
     "iopub.execute_input": "2025-06-16T13:58:42.296180Z",
     "iopub.status.busy": "2025-06-16T13:58:42.295137Z",
     "iopub.status.idle": "2025-06-16T13:58:47.720854Z",
     "shell.execute_reply": "2025-06-16T13:58:47.719543Z"
    },
    "papermill": {
     "duration": 5.432893,
     "end_time": "2025-06-16T13:58:47.723353",
     "exception": false,
     "start_time": "2025-06-16T13:58:42.290460",
     "status": "completed"
    },
    "tags": []
   },
   "outputs": [
    {
     "name": "stdout",
     "output_type": "stream",
     "text": [
      "Requirement already satisfied: polars==1.21.0 in /usr/local/lib/python3.11/dist-packages (1.21.0)\r\n"
     ]
    }
   ],
   "source": [
    "!pip install polars==1.21.0"
   ]
  },
  {
   "cell_type": "code",
   "execution_count": 3,
   "id": "b30fc213",
   "metadata": {
    "execution": {
     "iopub.execute_input": "2025-06-16T13:58:47.732521Z",
     "iopub.status.busy": "2025-06-16T13:58:47.732137Z",
     "iopub.status.idle": "2025-06-16T13:58:48.434116Z",
     "shell.execute_reply": "2025-06-16T13:58:48.432913Z"
    },
    "papermill": {
     "duration": 0.708729,
     "end_time": "2025-06-16T13:58:48.435917",
     "exception": false,
     "start_time": "2025-06-16T13:58:47.727188",
     "status": "completed"
    },
    "tags": []
   },
   "outputs": [],
   "source": [
    "import polars as pl\n",
    "import pandas as pd"
   ]
  },
  {
   "cell_type": "code",
   "execution_count": 4,
   "id": "8d213c6d",
   "metadata": {
    "execution": {
     "iopub.execute_input": "2025-06-16T13:58:48.444309Z",
     "iopub.status.busy": "2025-06-16T13:58:48.443959Z",
     "iopub.status.idle": "2025-06-16T13:59:36.559574Z",
     "shell.execute_reply": "2025-06-16T13:59:36.558144Z"
    },
    "papermill": {
     "duration": 48.121986,
     "end_time": "2025-06-16T13:59:36.561499",
     "exception": false,
     "start_time": "2025-06-16T13:58:48.439513",
     "status": "completed"
    },
    "tags": []
   },
   "outputs": [],
   "source": [
    "df_clickstream = pl.read_parquet('/kaggle/input/avito-ml-cup-2025-recsys-data/clickstream.pq')  \n",
    "df_event = pl.read_parquet('/kaggle/input/avito-ml-cup-2025-recsys-data/events.pq')         \n",
    "df_test_users = pl.read_parquet('/kaggle/input/avito-ml-cup-2025-recsys-data/test_users.pq')    \n",
    "df_cat_features = pl.read_parquet('/kaggle/input/avito-ml-cup-2025-recsys-data/cat_features.pq')  \n",
    "df_text_features = pl.read_parquet('/kaggle/input/avito-ml-cup-2025-recsys-data/text_features.pq') "
   ]
  },
  {
   "cell_type": "code",
   "execution_count": 5,
   "id": "c9a2d45f",
   "metadata": {
    "execution": {
     "iopub.execute_input": "2025-06-16T13:59:36.570117Z",
     "iopub.status.busy": "2025-06-16T13:59:36.569796Z",
     "iopub.status.idle": "2025-06-16T13:59:36.614405Z",
     "shell.execute_reply": "2025-06-16T13:59:36.613512Z"
    },
    "papermill": {
     "duration": 0.050925,
     "end_time": "2025-06-16T13:59:36.616232",
     "exception": false,
     "start_time": "2025-06-16T13:59:36.565307",
     "status": "completed"
    },
    "tags": []
   },
   "outputs": [],
   "source": [
    "contact_ids = (\n",
    "    df_event\n",
    "    .filter(pl.col(\"is_contact\") == 1)\n",
    "    .select(\"event\")\n",
    "    .to_series()\n",
    "    .to_list()\n",
    ")"
   ]
  },
  {
   "cell_type": "code",
   "execution_count": 6,
   "id": "806456f4",
   "metadata": {
    "execution": {
     "iopub.execute_input": "2025-06-16T13:59:36.624580Z",
     "iopub.status.busy": "2025-06-16T13:59:36.624284Z",
     "iopub.status.idle": "2025-06-16T13:59:36.927768Z",
     "shell.execute_reply": "2025-06-16T13:59:36.926704Z"
    },
    "papermill": {
     "duration": 0.309943,
     "end_time": "2025-06-16T13:59:36.929700",
     "exception": false,
     "start_time": "2025-06-16T13:59:36.619757",
     "status": "completed"
    },
    "tags": []
   },
   "outputs": [],
   "source": [
    "df_clickstream = df_clickstream.filter(pl.col(\"event\").is_in(contact_ids))"
   ]
  },
  {
   "cell_type": "code",
   "execution_count": 7,
   "id": "cc52126f",
   "metadata": {
    "execution": {
     "iopub.execute_input": "2025-06-16T13:59:36.938716Z",
     "iopub.status.busy": "2025-06-16T13:59:36.937915Z",
     "iopub.status.idle": "2025-06-16T13:59:36.942929Z",
     "shell.execute_reply": "2025-06-16T13:59:36.941982Z"
    },
    "papermill": {
     "duration": 0.011209,
     "end_time": "2025-06-16T13:59:36.944416",
     "exception": false,
     "start_time": "2025-06-16T13:59:36.933207",
     "status": "completed"
    },
    "tags": []
   },
   "outputs": [
    {
     "name": "stdout",
     "output_type": "stream",
     "text": [
      "Contacts after filtering: (1966247, 7)\n"
     ]
    }
   ],
   "source": [
    "print(\"Contacts after filtering:\", df_clickstream.shape)"
   ]
  },
  {
   "cell_type": "markdown",
   "id": "fe3924d6",
   "metadata": {
    "papermill": {
     "duration": 0.003222,
     "end_time": "2025-06-16T13:59:36.951222",
     "exception": false,
     "start_time": "2025-06-16T13:59:36.948000",
     "status": "completed"
    },
    "tags": []
   },
   "source": [
    "After filtering contacts: (1,966,247 rows, 7 columns)\n",
    "We train the model only on real user \"responses\" (is_contact=1), not on all actions.\n",
    "\n",
    "The dataset was reduced from 68,806,152 to 1,966,247 rows."
   ]
  },
  {
   "cell_type": "markdown",
   "id": "198831dd",
   "metadata": {
    "papermill": {
     "duration": 0.003068,
     "end_time": "2025-06-16T13:59:36.957740",
     "exception": false,
     "start_time": "2025-06-16T13:59:36.954672",
     "status": "completed"
    },
    "tags": []
   },
   "source": [
    "Next, we filter out the most active noisy users"
   ]
  },
  {
   "cell_type": "code",
   "execution_count": 8,
   "id": "42bcb4dd",
   "metadata": {
    "execution": {
     "iopub.execute_input": "2025-06-16T13:59:36.966192Z",
     "iopub.status.busy": "2025-06-16T13:59:36.965482Z",
     "iopub.status.idle": "2025-06-16T13:59:37.126054Z",
     "shell.execute_reply": "2025-06-16T13:59:37.124410Z"
    },
    "papermill": {
     "duration": 0.167186,
     "end_time": "2025-06-16T13:59:37.128193",
     "exception": false,
     "start_time": "2025-06-16T13:59:36.961007",
     "status": "completed"
    },
    "tags": []
   },
   "outputs": [
    {
     "name": "stderr",
     "output_type": "stream",
     "text": [
      "/tmp/ipykernel_13/4203009190.py:4: DeprecationWarning: `pl.count()` is deprecated. Please use `pl.len()` instead.\n",
      "  .agg(pl.count().alias(\"cnt\"))\n"
     ]
    }
   ],
   "source": [
    "user_counts = (\n",
    "    df_clickstream\n",
    "    .group_by(\"cookie\")\n",
    "    .agg(pl.count().alias(\"cnt\"))\n",
    ")"
   ]
  },
  {
   "cell_type": "code",
   "execution_count": 9,
   "id": "5398a297",
   "metadata": {
    "execution": {
     "iopub.execute_input": "2025-06-16T13:59:37.139122Z",
     "iopub.status.busy": "2025-06-16T13:59:37.138549Z",
     "iopub.status.idle": "2025-06-16T13:59:37.845460Z",
     "shell.execute_reply": "2025-06-16T13:59:37.844395Z"
    },
    "papermill": {
     "duration": 0.713053,
     "end_time": "2025-06-16T13:59:37.847067",
     "exception": false,
     "start_time": "2025-06-16T13:59:37.134014",
     "status": "completed"
    },
    "tags": []
   },
   "outputs": [
    {
     "data": {
      "image/png": "[encoded data removed]",
      "text/plain": [
       "<Figure size 640x480 with 1 Axes>"
      ]
     },
     "metadata": {},
     "output_type": "display_data"
    }
   ],
   "source": [
    "import matplotlib.pyplot as plt\n",
    "plt.hist(user_counts[\"cnt\"], bins=50)\n",
    "plt.yscale(\"log\")\n",
    "plt.show()"
   ]
  },
  {
   "cell_type": "code",
   "execution_count": 10,
   "id": "c51d7132",
   "metadata": {
    "execution": {
     "iopub.execute_input": "2025-06-16T13:59:37.856221Z",
     "iopub.status.busy": "2025-06-16T13:59:37.855899Z",
     "iopub.status.idle": "2025-06-16T13:59:37.861237Z",
     "shell.execute_reply": "2025-06-16T13:59:37.860355Z"
    },
    "papermill": {
     "duration": 0.011918,
     "end_time": "2025-06-16T13:59:37.862960",
     "exception": false,
     "start_time": "2025-06-16T13:59:37.851042",
     "status": "completed"
    },
    "tags": []
   },
   "outputs": [],
   "source": [
    "super_active = (\n",
    "    user_counts\n",
    "    .filter(pl.col(\"cnt\") > 2500)\n",
    "    .select(\"cookie\")\n",
    "    .to_series()\n",
    "    .to_list()\n",
    ")"
   ]
  },
  {
   "cell_type": "code",
   "execution_count": 11,
   "id": "ce9075d1",
   "metadata": {
    "execution": {
     "iopub.execute_input": "2025-06-16T13:59:37.872031Z",
     "iopub.status.busy": "2025-06-16T13:59:37.871693Z",
     "iopub.status.idle": "2025-06-16T13:59:37.878205Z",
     "shell.execute_reply": "2025-06-16T13:59:37.877177Z"
    },
    "papermill": {
     "duration": 0.012712,
     "end_time": "2025-06-16T13:59:37.879607",
     "exception": false,
     "start_time": "2025-06-16T13:59:37.866895",
     "status": "completed"
    },
    "tags": []
   },
   "outputs": [
    {
     "data": {
      "text/plain": [
       "[25540]"
      ]
     },
     "execution_count": 11,
     "metadata": {},
     "output_type": "execute_result"
    }
   ],
   "source": [
    "super_active"
   ]
  },
  {
   "cell_type": "code",
   "execution_count": 12,
   "id": "034ba43a",
   "metadata": {
    "execution": {
     "iopub.execute_input": "2025-06-16T13:59:37.888676Z",
     "iopub.status.busy": "2025-06-16T13:59:37.888355Z",
     "iopub.status.idle": "2025-06-16T13:59:37.908081Z",
     "shell.execute_reply": "2025-06-16T13:59:37.907155Z"
    },
    "papermill": {
     "duration": 0.026215,
     "end_time": "2025-06-16T13:59:37.909784",
     "exception": false,
     "start_time": "2025-06-16T13:59:37.883569",
     "status": "completed"
    },
    "tags": []
   },
   "outputs": [],
   "source": [
    "df_clickstream = df_clickstream.filter(~pl.col(\"cookie\").is_in(super_active))"
   ]
  },
  {
   "cell_type": "code",
   "execution_count": 13,
   "id": "5df9b41c",
   "metadata": {
    "execution": {
     "iopub.execute_input": "2025-06-16T13:59:37.919030Z",
     "iopub.status.busy": "2025-06-16T13:59:37.918695Z",
     "iopub.status.idle": "2025-06-16T13:59:37.923998Z",
     "shell.execute_reply": "2025-06-16T13:59:37.922980Z"
    },
    "papermill": {
     "duration": 0.011891,
     "end_time": "2025-06-16T13:59:37.925781",
     "exception": false,
     "start_time": "2025-06-16T13:59:37.913890",
     "status": "completed"
    },
    "tags": []
   },
   "outputs": [
    {
     "name": "stdout",
     "output_type": "stream",
     "text": [
      "Removed 1 super-active users\n",
      "After filtering noisy users: (1963656, 7)\n"
     ]
    }
   ],
   "source": [
    "print(f\"Removed {len(super_active)} super-active users\")\n",
    "print(\"After filtering noisy users:\", df_clickstream.shape)"
   ]
  },
  {
   "cell_type": "code",
   "execution_count": 14,
   "id": "71d70092",
   "metadata": {
    "execution": {
     "iopub.execute_input": "2025-06-16T13:59:37.935295Z",
     "iopub.status.busy": "2025-06-16T13:59:37.934505Z",
     "iopub.status.idle": "2025-06-16T13:59:38.679368Z",
     "shell.execute_reply": "2025-06-16T13:59:38.678263Z"
    },
    "papermill": {
     "duration": 0.751666,
     "end_time": "2025-06-16T13:59:38.681417",
     "exception": false,
     "start_time": "2025-06-16T13:59:37.929751",
     "status": "completed"
    },
    "tags": []
   },
   "outputs": [],
   "source": [
    "df_clickstream.write_parquet(\"clickstream_filtered.pq\") "
   ]
  }
 ],
 "metadata": {
  "kaggle": {
   "accelerator": "none",
   "dataSources": [
    {
     "datasetId": 7469532,
     "sourceId": 11884509,
     "sourceType": "datasetVersion"
    }
   ],
   "dockerImageVersionId": 31040,
   "isGpuEnabled": false,
   "isInternetEnabled": true,
   "language": "python",
   "sourceType": "notebook"
  },
  "kernelspec": {
   "display_name": "Python 3",
   "language": "python",
   "name": "python3"
  },
  "language_info": {
   "codemirror_mode": {
    "name": "ipython",
    "version": 3
   },
   "file_extension": ".py",
   "mimetype": "text/x-python",
   "name": "python",
   "nbconvert_exporter": "python",
   "pygments_lexer": "ipython3",
   "version": "3.11.11"
  },
  "papermill": {
   "default_parameters": {},
   "duration": 67.004564,
   "end_time": "2025-06-16T13:59:40.210644",
   "environment_variables": {},
   "exception": null,
   "input_path": "__notebook__.ipynb",
   "output_path": "__notebook__.ipynb",
   "parameters": {},
   "start_time": "2025-06-16T13:58:33.206080",
   "version": "2.6.0"
  }
 },
 "nbformat": 4,
 "nbformat_minor": 5
}
