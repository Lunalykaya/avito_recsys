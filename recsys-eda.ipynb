{
 "cells": [
  {
   "cell_type": "code",
   "execution_count": 1,
   "id": "b37db56c",
   "metadata": {
    "_cell_guid": "b1076dfc-b9ad-4769-8c92-a6c4dae69d19",
    "_uuid": "8f2839f25d086af736a60e9eeb907d3b93b6e0e5",
    "execution": {
     "iopub.execute_input": "2025-06-16T13:41:29.367262Z",
     "iopub.status.busy": "2025-06-16T13:41:29.366944Z",
     "iopub.status.idle": "2025-06-16T13:41:31.314356Z",
     "shell.execute_reply": "2025-06-16T13:41:31.313204Z"
    },
    "papermill": {
     "duration": 1.955778,
     "end_time": "2025-06-16T13:41:31.315898",
     "exception": false,
     "start_time": "2025-06-16T13:41:29.360120",
     "status": "completed"
    },
    "tags": []
   },
   "outputs": [
    {
     "name": "stdout",
     "output_type": "stream",
     "text": [
      "/kaggle/input/avito-ml-cup-2025-recsys-data/text_features.pq\n",
      "/kaggle/input/avito-ml-cup-2025-recsys-data/submit_example.csv\n",
      "/kaggle/input/avito-ml-cup-2025-recsys-data/test_users.pq\n",
      "/kaggle/input/avito-ml-cup-2025-recsys-data/cat_features.pq\n",
      "/kaggle/input/avito-ml-cup-2025-recsys-data/clickstream.pq\n",
      "/kaggle/input/avito-ml-cup-2025-recsys-data/events.pq\n"
     ]
    }
   ],
   "source": [
    "# This Python 3 environment comes with many helpful analytics libraries installed\n",
    "# It is defined by the kaggle/python Docker image: https://github.com/kaggle/docker-python\n",
    "# For example, here's several helpful packages to load\n",
    "\n",
    "import numpy as np # linear algebra\n",
    "import pandas as pd # data processing, CSV file I/O (e.g. pd.read_csv)\n",
    "\n",
    "# Input data files are available in the read-only \"../input/\" directory\n",
    "# For example, running this (by clicking run or pressing Shift+Enter) will list all files under the input directory\n",
    "\n",
    "import os\n",
    "for dirname, _, filenames in os.walk('/kaggle/input'):\n",
    "    for filename in filenames:\n",
    "        print(os.path.join(dirname, filename))\n",
    "\n",
    "# You can write up to 20GB to the current directory (/kaggle/working/) that gets preserved as output when you create a version using \"Save & Run All\" \n",
    "# You can also write temporary files to /kaggle/temp/, but they won't be saved outside of the current session"
   ]
  },
  {
   "cell_type": "code",
   "execution_count": 2,
   "id": "da5ca4a1",
   "metadata": {
    "execution": {
     "iopub.execute_input": "2025-06-16T13:41:31.327345Z",
     "iopub.status.busy": "2025-06-16T13:41:31.326849Z",
     "iopub.status.idle": "2025-06-16T13:41:36.161929Z",
     "shell.execute_reply": "2025-06-16T13:41:36.160639Z"
    },
    "papermill": {
     "duration": 4.842743,
     "end_time": "2025-06-16T13:41:36.163729",
     "exception": false,
     "start_time": "2025-06-16T13:41:31.320986",
     "status": "completed"
    },
    "tags": []
   },
   "outputs": [
    {
     "name": "stdout",
     "output_type": "stream",
     "text": [
      "Requirement already satisfied: polars==1.21.0 in /usr/local/lib/python3.11/dist-packages (1.21.0)\r\n"
     ]
    }
   ],
   "source": [
    "!pip install polars==1.21.0"
   ]
  },
  {
   "cell_type": "code",
   "execution_count": 3,
   "id": "69b8bd56",
   "metadata": {
    "execution": {
     "iopub.execute_input": "2025-06-16T13:41:36.175649Z",
     "iopub.status.busy": "2025-06-16T13:41:36.175297Z",
     "iopub.status.idle": "2025-06-16T13:41:37.033492Z",
     "shell.execute_reply": "2025-06-16T13:41:37.032686Z"
    },
    "papermill": {
     "duration": 0.866373,
     "end_time": "2025-06-16T13:41:37.035192",
     "exception": false,
     "start_time": "2025-06-16T13:41:36.168819",
     "status": "completed"
    },
    "tags": []
   },
   "outputs": [],
   "source": [
    "import polars as pl\n",
    "import pandas as pd"
   ]
  },
  {
   "cell_type": "code",
   "execution_count": 4,
   "id": "612d00f9",
   "metadata": {
    "execution": {
     "iopub.execute_input": "2025-06-16T13:41:37.047015Z",
     "iopub.status.busy": "2025-06-16T13:41:37.046342Z",
     "iopub.status.idle": "2025-06-16T13:41:37.444481Z",
     "shell.execute_reply": "2025-06-16T13:41:37.443554Z"
    },
    "papermill": {
     "duration": 0.405763,
     "end_time": "2025-06-16T13:41:37.446065",
     "exception": false,
     "start_time": "2025-06-16T13:41:37.040302",
     "status": "completed"
    },
    "tags": []
   },
   "outputs": [],
   "source": [
    "submit_example = pd.read_csv('/kaggle/input/avito-ml-cup-2025-recsys-data/submit_example.csv')"
   ]
  },
  {
   "cell_type": "code",
   "execution_count": 5,
   "id": "1790ebb9",
   "metadata": {
    "execution": {
     "iopub.execute_input": "2025-06-16T13:41:37.458097Z",
     "iopub.status.busy": "2025-06-16T13:41:37.457778Z",
     "iopub.status.idle": "2025-06-16T13:41:37.482548Z",
     "shell.execute_reply": "2025-06-16T13:41:37.481658Z"
    },
    "papermill": {
     "duration": 0.032377,
     "end_time": "2025-06-16T13:41:37.484093",
     "exception": false,
     "start_time": "2025-06-16T13:41:37.451716",
     "status": "completed"
    },
    "tags": []
   },
   "outputs": [
    {
     "data": {
      "text/html": [
       "<div>\n",
       "<style scoped>\n",
       "    .dataframe tbody tr th:only-of-type {\n",
       "        vertical-align: middle;\n",
       "    }\n",
       "\n",
       "    .dataframe tbody tr th {\n",
       "        vertical-align: top;\n",
       "    }\n",
       "\n",
       "    .dataframe thead th {\n",
       "        text-align: right;\n",
       "    }\n",
       "</style>\n",
       "<table border=\"1\" class=\"dataframe\">\n",
       "  <thead>\n",
       "    <tr style=\"text-align: right;\">\n",
       "      <th></th>\n",
       "      <th>cookie</th>\n",
       "      <th>node</th>\n",
       "    </tr>\n",
       "  </thead>\n",
       "  <tbody>\n",
       "    <tr>\n",
       "      <th>0</th>\n",
       "      <td>36835</td>\n",
       "      <td>279315</td>\n",
       "    </tr>\n",
       "    <tr>\n",
       "      <th>1</th>\n",
       "      <td>36835</td>\n",
       "      <td>279318</td>\n",
       "    </tr>\n",
       "    <tr>\n",
       "      <th>2</th>\n",
       "      <td>36835</td>\n",
       "      <td>303222</td>\n",
       "    </tr>\n",
       "    <tr>\n",
       "      <th>3</th>\n",
       "      <td>36835</td>\n",
       "      <td>279316</td>\n",
       "    </tr>\n",
       "    <tr>\n",
       "      <th>4</th>\n",
       "      <td>36835</td>\n",
       "      <td>272387</td>\n",
       "    </tr>\n",
       "    <tr>\n",
       "      <th>5</th>\n",
       "      <td>36835</td>\n",
       "      <td>303229</td>\n",
       "    </tr>\n",
       "    <tr>\n",
       "      <th>6</th>\n",
       "      <td>36835</td>\n",
       "      <td>283292</td>\n",
       "    </tr>\n",
       "    <tr>\n",
       "      <th>7</th>\n",
       "      <td>36835</td>\n",
       "      <td>310795</td>\n",
       "    </tr>\n",
       "    <tr>\n",
       "      <th>8</th>\n",
       "      <td>36835</td>\n",
       "      <td>310793</td>\n",
       "    </tr>\n",
       "    <tr>\n",
       "      <th>9</th>\n",
       "      <td>36835</td>\n",
       "      <td>303237</td>\n",
       "    </tr>\n",
       "  </tbody>\n",
       "</table>\n",
       "</div>"
      ],
      "text/plain": [
       "   cookie    node\n",
       "0   36835  279315\n",
       "1   36835  279318\n",
       "2   36835  303222\n",
       "3   36835  279316\n",
       "4   36835  272387\n",
       "5   36835  303229\n",
       "6   36835  283292\n",
       "7   36835  310795\n",
       "8   36835  310793\n",
       "9   36835  303237"
      ]
     },
     "execution_count": 5,
     "metadata": {},
     "output_type": "execute_result"
    }
   ],
   "source": [
    "submit_example.head(10)"
   ]
  },
  {
   "cell_type": "code",
   "execution_count": 6,
   "id": "fe57d5f0",
   "metadata": {
    "execution": {
     "iopub.execute_input": "2025-06-16T13:41:37.495759Z",
     "iopub.status.busy": "2025-06-16T13:41:37.495392Z",
     "iopub.status.idle": "2025-06-16T13:42:25.620134Z",
     "shell.execute_reply": "2025-06-16T13:42:25.619140Z"
    },
    "papermill": {
     "duration": 48.132865,
     "end_time": "2025-06-16T13:42:25.622073",
     "exception": false,
     "start_time": "2025-06-16T13:41:37.489208",
     "status": "completed"
    },
    "tags": []
   },
   "outputs": [],
   "source": [
    "df_clickstream = pl.read_parquet('/kaggle/input/avito-ml-cup-2025-recsys-data/clickstream.pq')  \n",
    "df_event = pl.read_parquet('/kaggle/input/avito-ml-cup-2025-recsys-data/events.pq')         \n",
    "df_test_users = pl.read_parquet('/kaggle/input/avito-ml-cup-2025-recsys-data/test_users.pq')    \n",
    "df_cat_features = pl.read_parquet('/kaggle/input/avito-ml-cup-2025-recsys-data/cat_features.pq')  \n",
    "df_text_features = pl.read_parquet('/kaggle/input/avito-ml-cup-2025-recsys-data/text_features.pq') "
   ]
  },
  {
   "cell_type": "code",
   "execution_count": 7,
   "id": "bfb69a8f",
   "metadata": {
    "execution": {
     "iopub.execute_input": "2025-06-16T13:42:25.634445Z",
     "iopub.status.busy": "2025-06-16T13:42:25.633663Z",
     "iopub.status.idle": "2025-06-16T13:42:25.638932Z",
     "shell.execute_reply": "2025-06-16T13:42:25.637681Z"
    },
    "papermill": {
     "duration": 0.012999,
     "end_time": "2025-06-16T13:42:25.640590",
     "exception": false,
     "start_time": "2025-06-16T13:42:25.627591",
     "status": "completed"
    },
    "tags": []
   },
   "outputs": [],
   "source": [
    "def info(df):\n",
    "    print(df.schema)\n",
    "    print(df.shape)\n",
    "    print(df.head(10))\n",
    "    print(df.describe())\n",
    "    print(df.null_count())"
   ]
  },
  {
   "cell_type": "code",
   "execution_count": 8,
   "id": "5722cbb4",
   "metadata": {
    "execution": {
     "iopub.execute_input": "2025-06-16T13:42:25.653071Z",
     "iopub.status.busy": "2025-06-16T13:42:25.652287Z",
     "iopub.status.idle": "2025-06-16T13:42:33.012828Z",
     "shell.execute_reply": "2025-06-16T13:42:33.011965Z"
    },
    "papermill": {
     "duration": 7.369427,
     "end_time": "2025-06-16T13:42:33.015265",
     "exception": false,
     "start_time": "2025-06-16T13:42:25.645838",
     "status": "completed"
    },
    "tags": []
   },
   "outputs": [
    {
     "name": "stdout",
     "output_type": "stream",
     "text": [
      "Schema([('cookie', Int64), ('item', Int64), ('event', Int64), ('event_date', Datetime(time_unit='ns', time_zone=None)), ('platform', Int64), ('surface', Int64), ('node', UInt32)])\n",
      "(68806152, 7)\n",
      "shape: (10, 7)\n",
      "┌────────┬──────────┬───────┬─────────────────────┬──────────┬─────────┬────────┐\n",
      "│ cookie ┆ item     ┆ event ┆ event_date          ┆ platform ┆ surface ┆ node   │\n",
      "│ ---    ┆ ---      ┆ ---   ┆ ---                 ┆ ---      ┆ ---     ┆ ---    │\n",
      "│ i64    ┆ i64      ┆ i64   ┆ datetime[ns]        ┆ i64      ┆ i64     ┆ u32    │\n",
      "╞════════╪══════════╪═══════╪═════════════════════╪══════════╪═════════╪════════╡\n",
      "│ 0      ┆ 19915558 ┆ 17    ┆ 2025-02-05 02:30:59 ┆ 3        ┆ 2       ┆ 115659 │\n",
      "│ 0      ┆ 2680232  ┆ 17    ┆ 2025-01-24 21:16:57 ┆ 3        ┆ 2       ┆ 115829 │\n",
      "│ 1      ┆ 4247649  ┆ 17    ┆ 2025-01-29 23:00:58 ┆ 2        ┆ 2       ┆ 7      │\n",
      "│ 1      ┆ 4247649  ┆ 17    ┆ 2025-02-17 14:55:17 ┆ 2        ┆ 2       ┆ 7      │\n",
      "│ 1      ┆ 2171135  ┆ 17    ┆ 2025-01-17 19:23:29 ┆ 2        ┆ 2       ┆ 214458 │\n",
      "│ 1      ┆ 6830678  ┆ 17    ┆ 2025-02-09 13:17:03 ┆ 2        ┆ 2       ┆ 15     │\n",
      "│ 1      ┆ 6830678  ┆ 17    ┆ 2025-02-09 13:16:58 ┆ 2        ┆ 2       ┆ 15     │\n",
      "│ 1      ┆ 14233689 ┆ 17    ┆ 2025-02-09 16:53:28 ┆ 2        ┆ 2       ┆ 214458 │\n",
      "│ 1      ┆ 14233689 ┆ 17    ┆ 2025-01-16 19:36:23 ┆ 2        ┆ 2       ┆ 214458 │\n",
      "│ 1      ┆ 18306851 ┆ 17    ┆ 2025-01-19 22:50:47 ┆ 2        ┆ 2       ┆ 214221 │\n",
      "└────────┴──────────┴───────┴─────────────────────┴──────────┴─────────┴────────┘\n",
      "shape: (9, 8)\n",
      "┌────────────┬────────────┬────────────┬───────────┬───────────┬───────────┬───────────┬───────────┐\n",
      "│ statistic  ┆ cookie     ┆ item       ┆ event     ┆ event_dat ┆ platform  ┆ surface   ┆ node      │\n",
      "│ ---        ┆ ---        ┆ ---        ┆ ---       ┆ e         ┆ ---       ┆ ---       ┆ ---       │\n",
      "│ str        ┆ f64        ┆ f64        ┆ f64       ┆ ---       ┆ f64       ┆ f64       ┆ f64       │\n",
      "│            ┆            ┆            ┆           ┆ str       ┆           ┆           ┆           │\n",
      "╞════════════╪════════════╪════════════╪═══════════╪═══════════╪═══════════╪═══════════╪═══════════╡\n",
      "│ count      ┆ 6.8806152e ┆ 6.8806152e ┆ 6.8806152 ┆ 68806152  ┆ 6.8806152 ┆ 6.8806152 ┆ 6.8806152 │\n",
      "│            ┆ 7          ┆ 7          ┆ e7        ┆           ┆ e7        ┆ e7        ┆ e7        │\n",
      "│ null_count ┆ 0.0        ┆ 0.0        ┆ 0.0       ┆ 0         ┆ 0.0       ┆ 0.0       ┆ 0.0       │\n",
      "│ mean       ┆ 74884.1028 ┆ 1.4402e7   ┆ 16.29883  ┆ 2025-02-0 ┆ 2.374055  ┆ 6.051714  ┆ 165425.27 │\n",
      "│            ┆ 41         ┆            ┆           ┆ 1 15:21:4 ┆           ┆           ┆ 3495      │\n",
      "│            ┆            ┆            ┆           ┆ 3.914605  ┆           ┆           ┆           │\n",
      "│ std        ┆ 43250.5993 ┆ 8.3145e6   ┆ 2.188569  ┆ null      ┆ 0.776999  ┆ 4.695714  ┆ 88418.121 │\n",
      "│            ┆ 21         ┆            ┆           ┆           ┆           ┆           ┆ 967       │\n",
      "│ min        ┆ 0.0        ┆ 0.0        ┆ 0.0       ┆ 2025-01-1 ┆ 0.0       ┆ 0.0       ┆ 1.0       │\n",
      "│            ┆            ┆            ┆           ┆ 0         ┆           ┆           ┆           │\n",
      "│            ┆            ┆            ┆           ┆ 00:00:00  ┆           ┆           ┆           │\n",
      "│ 25%        ┆ 37353.0    ┆ 7.20358e6  ┆ 17.0      ┆ 2025-01-2 ┆ 2.0       ┆ 2.0       ┆ 116118.0  │\n",
      "│            ┆            ┆            ┆           ┆ 1         ┆           ┆           ┆           │\n",
      "│            ┆            ┆            ┆           ┆ 16:02:41  ┆           ┆           ┆           │\n",
      "│ 50%        ┆ 74884.0    ┆ 1.440721e7 ┆ 17.0      ┆ 2025-02-0 ┆ 2.0       ┆ 3.0       ┆ 153937.0  │\n",
      "│            ┆            ┆            ┆           ┆ 1         ┆           ┆           ┆           │\n",
      "│            ┆            ┆            ┆           ┆ 23:37:08  ┆           ┆           ┆           │\n",
      "│ 75%        ┆ 112113.0   ┆ 2.1605283e ┆ 17.0      ┆ 2025-02-1 ┆ 3.0       ┆ 11.0      ┆ 214338.0  │\n",
      "│            ┆            ┆ 7          ┆           ┆ 2         ┆           ┆           ┆           │\n",
      "│            ┆            ┆            ┆           ┆ 16:12:00  ┆           ┆           ┆           │\n",
      "│ max        ┆ 149999.0   ┆ 2.8804867e ┆ 19.0      ┆ 2025-02-2 ┆ 6.0       ┆ 18.0      ┆ 424068.0  │\n",
      "│            ┆            ┆ 7          ┆           ┆ 3         ┆           ┆           ┆           │\n",
      "│            ┆            ┆            ┆           ┆ 00:00:00  ┆           ┆           ┆           │\n",
      "└────────────┴────────────┴────────────┴───────────┴───────────┴───────────┴───────────┴───────────┘\n",
      "shape: (1, 7)\n",
      "┌────────┬──────┬───────┬────────────┬──────────┬─────────┬──────┐\n",
      "│ cookie ┆ item ┆ event ┆ event_date ┆ platform ┆ surface ┆ node │\n",
      "│ ---    ┆ ---  ┆ ---   ┆ ---        ┆ ---      ┆ ---     ┆ ---  │\n",
      "│ u32    ┆ u32  ┆ u32   ┆ u32        ┆ u32      ┆ u32     ┆ u32  │\n",
      "╞════════╪══════╪═══════╪════════════╪══════════╪═════════╪══════╡\n",
      "│ 0      ┆ 0    ┆ 0     ┆ 0          ┆ 0        ┆ 0       ┆ 0    │\n",
      "└────────┴──────┴───────┴────────────┴──────────┴─────────┴──────┘\n"
     ]
    }
   ],
   "source": [
    "info(df_clickstream)"
   ]
  },
  {
   "cell_type": "code",
   "execution_count": 9,
   "id": "9d8e1dcc",
   "metadata": {
    "execution": {
     "iopub.execute_input": "2025-06-16T13:42:33.032551Z",
     "iopub.status.busy": "2025-06-16T13:42:33.031632Z",
     "iopub.status.idle": "2025-06-16T13:42:33.039783Z",
     "shell.execute_reply": "2025-06-16T13:42:33.038336Z"
    },
    "papermill": {
     "duration": 0.017222,
     "end_time": "2025-06-16T13:42:33.041580",
     "exception": false,
     "start_time": "2025-06-16T13:42:33.024358",
     "status": "completed"
    },
    "tags": []
   },
   "outputs": [
    {
     "name": "stdout",
     "output_type": "stream",
     "text": [
      "Schema([('event', Int64), ('is_contact', Int64)])\n",
      "(19, 2)\n",
      "shape: (10, 2)\n",
      "┌───────┬────────────┐\n",
      "│ event ┆ is_contact │\n",
      "│ ---   ┆ ---        │\n",
      "│ i64   ┆ i64        │\n",
      "╞═══════╪════════════╡\n",
      "│ 0     ┆ 1          │\n",
      "│ 11    ┆ 0          │\n",
      "│ 4     ┆ 1          │\n",
      "│ 16    ┆ 0          │\n",
      "│ 15    ┆ 1          │\n",
      "│ 3     ┆ 0          │\n",
      "│ 12    ┆ 0          │\n",
      "│ 18    ┆ 1          │\n",
      "│ 5     ┆ 1          │\n",
      "│ 8     ┆ 0          │\n",
      "└───────┴────────────┘\n",
      "shape: (9, 3)\n",
      "┌────────────┬──────────┬────────────┐\n",
      "│ statistic  ┆ event    ┆ is_contact │\n",
      "│ ---        ┆ ---      ┆ ---        │\n",
      "│ str        ┆ f64      ┆ f64        │\n",
      "╞════════════╪══════════╪════════════╡\n",
      "│ count      ┆ 19.0     ┆ 19.0       │\n",
      "│ null_count ┆ 0.0      ┆ 0.0        │\n",
      "│ mean       ┆ 9.631579 ┆ 0.684211   │\n",
      "│ std        ┆ 6.048053 ┆ 0.477567   │\n",
      "│ min        ┆ 0.0      ┆ 0.0        │\n",
      "│ 25%        ┆ 5.0      ┆ 0.0        │\n",
      "│ 50%        ┆ 10.0     ┆ 1.0        │\n",
      "│ 75%        ┆ 15.0     ┆ 1.0        │\n",
      "│ max        ┆ 19.0     ┆ 1.0        │\n",
      "└────────────┴──────────┴────────────┘\n",
      "shape: (1, 2)\n",
      "┌───────┬────────────┐\n",
      "│ event ┆ is_contact │\n",
      "│ ---   ┆ ---        │\n",
      "│ u32   ┆ u32        │\n",
      "╞═══════╪════════════╡\n",
      "│ 0     ┆ 0          │\n",
      "└───────┴────────────┘\n"
     ]
    }
   ],
   "source": [
    "info(df_event)"
   ]
  },
  {
   "cell_type": "code",
   "execution_count": 10,
   "id": "a61c227f",
   "metadata": {
    "execution": {
     "iopub.execute_input": "2025-06-16T13:42:33.057115Z",
     "iopub.status.busy": "2025-06-16T13:42:33.056740Z",
     "iopub.status.idle": "2025-06-16T13:42:33.068887Z",
     "shell.execute_reply": "2025-06-16T13:42:33.067671Z"
    },
    "papermill": {
     "duration": 0.022,
     "end_time": "2025-06-16T13:42:33.070755",
     "exception": false,
     "start_time": "2025-06-16T13:42:33.048755",
     "status": "completed"
    },
    "tags": []
   },
   "outputs": [
    {
     "name": "stdout",
     "output_type": "stream",
     "text": [
      "Schema([('cookie', Int64)])\n",
      "(92319, 1)\n",
      "shape: (10, 1)\n",
      "┌────────┐\n",
      "│ cookie │\n",
      "│ ---    │\n",
      "│ i64    │\n",
      "╞════════╡\n",
      "│ 52564  │\n",
      "│ 105000 │\n",
      "│ 57152  │\n",
      "│ 87303  │\n",
      "│ 37755  │\n",
      "│ 129902 │\n",
      "│ 65542  │\n",
      "│ 66590  │\n",
      "│ 111026 │\n",
      "│ 143535 │\n",
      "└────────┘\n",
      "shape: (9, 2)\n",
      "┌────────────┬──────────────┐\n",
      "│ statistic  ┆ cookie       │\n",
      "│ ---        ┆ ---          │\n",
      "│ str        ┆ f64          │\n",
      "╞════════════╪══════════════╡\n",
      "│ count      ┆ 92319.0      │\n",
      "│ null_count ┆ 0.0          │\n",
      "│ mean       ┆ 75192.415429 │\n",
      "│ std        ┆ 43297.982566 │\n",
      "│ min        ┆ 1.0          │\n",
      "│ 25%        ┆ 37653.0      │\n",
      "│ 50%        ┆ 75255.0      │\n",
      "│ 75%        ┆ 112733.0     │\n",
      "│ max        ┆ 149999.0     │\n",
      "└────────────┴──────────────┘\n",
      "shape: (1, 1)\n",
      "┌────────┐\n",
      "│ cookie │\n",
      "│ ---    │\n",
      "│ u32    │\n",
      "╞════════╡\n",
      "│ 0      │\n",
      "└────────┘\n"
     ]
    }
   ],
   "source": [
    "info(df_test_users)"
   ]
  },
  {
   "cell_type": "code",
   "execution_count": 11,
   "id": "3d4ef949",
   "metadata": {
    "execution": {
     "iopub.execute_input": "2025-06-16T13:42:33.083086Z",
     "iopub.status.busy": "2025-06-16T13:42:33.082782Z",
     "iopub.status.idle": "2025-06-16T13:42:35.615359Z",
     "shell.execute_reply": "2025-06-16T13:42:35.613941Z"
    },
    "papermill": {
     "duration": 2.54075,
     "end_time": "2025-06-16T13:42:35.617112",
     "exception": false,
     "start_time": "2025-06-16T13:42:33.076362",
     "status": "completed"
    },
    "tags": []
   },
   "outputs": [
    {
     "name": "stdout",
     "output_type": "stream",
     "text": [
      "Schema([('item', Int64), ('location', Int64), ('category', Int64), ('clean_params', String), ('node', UInt32)])\n",
      "(22646691, 5)\n",
      "shape: (10, 5)\n",
      "┌──────┬──────────┬──────────┬─────────────────────────────────┬────────┐\n",
      "│ item ┆ location ┆ category ┆ clean_params                    ┆ node   │\n",
      "│ ---  ┆ ---      ┆ ---      ┆ ---                             ┆ ---    │\n",
      "│ i64  ┆ i64      ┆ i64      ┆ str                             ┆ u32    │\n",
      "╞══════╪══════════╪══════════╪═════════════════════════════════╪════════╡\n",
      "│ 9    ┆ 8385     ┆ 57       ┆ [{\"attr\":1157,\"value\":664427},… ┆ 194747 │\n",
      "│ 17   ┆ 2707     ┆ 35       ┆ [{\"attr\":2140,\"value\":501466},… ┆ 352905 │\n",
      "│ 144  ┆ 8383     ┆ 8        ┆ [{\"attr\":802,\"value\":35791},{\"… ┆ 17188  │\n",
      "│ 202  ┆ 5397     ┆ 57       ┆ [{\"attr\":1157,\"value\":490527},… ┆ 194766 │\n",
      "│ 236  ┆ 2105     ┆ 64       ┆ [{\"attr\":112,\"value\":420797},{… ┆ 153951 │\n",
      "│ 237  ┆ 7000     ┆ 28       ┆ [{\"attr\":1923,\"value\":444857},… ┆ 19624  │\n",
      "│ 262  ┆ 2269     ┆ 24       ┆ [{\"attr\":1747,\"value\":130954},… ┆ 140273 │\n",
      "│ 280  ┆ 4545     ┆ 51       ┆ [{\"attr\":4622,\"value\":618809},… ┆ 233366 │\n",
      "│ 417  ┆ 978      ┆ 63       ┆ [{\"attr\":602,\"value\":326990},{… ┆ 159206 │\n",
      "│ 429  ┆ 510      ┆ 31       ┆ [{\"attr\":4831,\"value\":746904},… ┆ 130612 │\n",
      "└──────┴──────────┴──────────┴─────────────────────────────────┴────────┘\n",
      "shape: (9, 6)\n",
      "┌────────────┬─────────────┬─────────────┬────────────┬────────────────────────────┬───────────────┐\n",
      "│ statistic  ┆ item        ┆ location    ┆ category   ┆ clean_params               ┆ node          │\n",
      "│ ---        ┆ ---         ┆ ---         ┆ ---        ┆ ---                        ┆ ---           │\n",
      "│ str        ┆ f64         ┆ f64         ┆ f64        ┆ str                        ┆ f64           │\n",
      "╞════════════╪═════════════╪═════════════╪════════════╪════════════════════════════╪═══════════════╡\n",
      "│ count      ┆ 2.2646691e7 ┆ 2.264669e7  ┆ 2.264669e7 ┆ 22646691                   ┆ 2.2646691e7   │\n",
      "│ null_count ┆ 0.0         ┆ 1.0         ┆ 1.0        ┆ 0                          ┆ 0.0           │\n",
      "│ mean       ┆ 1.4402e7    ┆ 4349.799844 ┆ 35.778449  ┆ null                       ┆ 173768.117695 │\n",
      "│ std        ┆ 8.3149e6    ┆ 2580.792016 ┆ 15.774887  ┆ null                       ┆ 93004.255815  │\n",
      "│ min        ┆ 0.0         ┆ 0.0         ┆ 0.0        ┆ []                         ┆ 1.0           │\n",
      "│ 25%        ┆ 7.201417e6  ┆ 2348.0      ┆ 24.0       ┆ null                       ┆ 116118.0      │\n",
      "│ 50%        ┆ 1.4402191e7 ┆ 3707.0      ┆ 35.0       ┆ null                       ┆ 170538.0      │\n",
      "│ 75%        ┆ 2.160266e7  ┆ 6773.0      ┆ 51.0       ┆ null                       ┆ 229443.0      │\n",
      "│ max        ┆ 2.8804867e7 ┆ 9579.0      ┆ 64.0       ┆ [{\"attr\":979,\"value\":79528 ┆ 424068.0      │\n",
      "│            ┆             ┆             ┆            ┆ 7},{…                      ┆               │\n",
      "└────────────┴─────────────┴─────────────┴────────────┴────────────────────────────┴───────────────┘\n",
      "shape: (1, 5)\n",
      "┌──────┬──────────┬──────────┬──────────────┬──────┐\n",
      "│ item ┆ location ┆ category ┆ clean_params ┆ node │\n",
      "│ ---  ┆ ---      ┆ ---      ┆ ---          ┆ ---  │\n",
      "│ u32  ┆ u32      ┆ u32      ┆ u32          ┆ u32  │\n",
      "╞══════╪══════════╪══════════╪══════════════╪══════╡\n",
      "│ 0    ┆ 1        ┆ 1        ┆ 0            ┆ 0    │\n",
      "└──────┴──────────┴──────────┴──────────────┴──────┘\n"
     ]
    }
   ],
   "source": [
    "info(df_cat_features)"
   ]
  },
  {
   "cell_type": "code",
   "execution_count": 12,
   "id": "2f881c24",
   "metadata": {
    "execution": {
     "iopub.execute_input": "2025-06-16T13:42:35.638780Z",
     "iopub.status.busy": "2025-06-16T13:42:35.638438Z",
     "iopub.status.idle": "2025-06-16T13:42:36.434665Z",
     "shell.execute_reply": "2025-06-16T13:42:36.433615Z"
    },
    "papermill": {
     "duration": 0.808721,
     "end_time": "2025-06-16T13:42:36.436225",
     "exception": false,
     "start_time": "2025-06-16T13:42:35.627504",
     "status": "completed"
    },
    "tags": []
   },
   "outputs": [
    {
     "name": "stdout",
     "output_type": "stream",
     "text": [
      "Schema([('item', Int64), ('title_projection', Array(Int8, shape=(64,)))])\n",
      "(22646691, 2)\n",
      "shape: (10, 2)\n",
      "┌──────┬────────────────────┐\n",
      "│ item ┆ title_projection   │\n",
      "│ ---  ┆ ---                │\n",
      "│ i64  ┆ array[i8, 64]      │\n",
      "╞══════╪════════════════════╡\n",
      "│ 9    ┆ [-128, 90, … -36]  │\n",
      "│ 17   ┆ [-128, 127, … -3]  │\n",
      "│ 144  ┆ [-128, 97, … 18]   │\n",
      "│ 202  ┆ [-128, 127, … 15]  │\n",
      "│ 236  ┆ [-128, 29, … -128] │\n",
      "│ 237  ┆ [-128, -98, … -97] │\n",
      "│ 262  ┆ [-128, 127, … 125] │\n",
      "│ 280  ┆ [-28, -128, … -67] │\n",
      "│ 417  ┆ [127, 127, … -27]  │\n",
      "│ 429  ┆ [127, 127, … -81]  │\n",
      "└──────┴────────────────────┘\n",
      "shape: (9, 3)\n",
      "┌────────────┬─────────────┬──────────────────┐\n",
      "│ statistic  ┆ item        ┆ title_projection │\n",
      "│ ---        ┆ ---         ┆ ---              │\n",
      "│ str        ┆ f64         ┆ f64              │\n",
      "╞════════════╪═════════════╪══════════════════╡\n",
      "│ count      ┆ 2.2646691e7 ┆ 2.2646691e7      │\n",
      "│ null_count ┆ 0.0         ┆ 0.0              │\n",
      "│ mean       ┆ 1.4402e7    ┆ null             │\n",
      "│ std        ┆ 8.3149e6    ┆ null             │\n",
      "│ min        ┆ 0.0         ┆ null             │\n",
      "│ 25%        ┆ 7.201417e6  ┆ null             │\n",
      "│ 50%        ┆ 1.4402191e7 ┆ null             │\n",
      "│ 75%        ┆ 2.160266e7  ┆ null             │\n",
      "│ max        ┆ 2.8804867e7 ┆ null             │\n",
      "└────────────┴─────────────┴──────────────────┘\n",
      "shape: (1, 2)\n",
      "┌──────┬──────────────────┐\n",
      "│ item ┆ title_projection │\n",
      "│ ---  ┆ ---              │\n",
      "│ u32  ┆ u32              │\n",
      "╞══════╪══════════════════╡\n",
      "│ 0    ┆ 0                │\n",
      "└──────┴──────────────────┘\n"
     ]
    }
   ],
   "source": [
    "info(df_text_features)"
   ]
  },
  {
   "cell_type": "code",
   "execution_count": 13,
   "id": "e727d270",
   "metadata": {
    "execution": {
     "iopub.execute_input": "2025-06-16T13:42:36.449379Z",
     "iopub.status.busy": "2025-06-16T13:42:36.449100Z",
     "iopub.status.idle": "2025-06-16T13:42:37.927783Z",
     "shell.execute_reply": "2025-06-16T13:42:37.926648Z"
    },
    "papermill": {
     "duration": 1.487279,
     "end_time": "2025-06-16T13:42:37.929392",
     "exception": false,
     "start_time": "2025-06-16T13:42:36.442113",
     "status": "completed"
    },
    "tags": []
   },
   "outputs": [
    {
     "name": "stdout",
     "output_type": "stream",
     "text": [
      "Number of unique users: 134294\n",
      "Total users: 68806152\n",
      "Average number of interaction events per user: 512.354624927398\n"
     ]
    }
   ],
   "source": [
    "uniq_users = df_clickstream['cookie'].n_unique()\n",
    "print(f'Number of unique users: {uniq_users}')\n",
    "print(f'Total users: {len(df_clickstream)}')\n",
    "print(f'Average number of interaction events per user: {len(df_clickstream) / uniq_users}')"
   ]
  },
  {
   "cell_type": "code",
   "execution_count": 14,
   "id": "3321ff3b",
   "metadata": {
    "execution": {
     "iopub.execute_input": "2025-06-16T13:42:37.942234Z",
     "iopub.status.busy": "2025-06-16T13:42:37.941941Z",
     "iopub.status.idle": "2025-06-16T13:42:42.057262Z",
     "shell.execute_reply": "2025-06-16T13:42:42.056360Z"
    },
    "papermill": {
     "duration": 4.123446,
     "end_time": "2025-06-16T13:42:42.058790",
     "exception": false,
     "start_time": "2025-06-16T13:42:37.935344",
     "status": "completed"
    },
    "tags": []
   },
   "outputs": [
    {
     "name": "stderr",
     "output_type": "stream",
     "text": [
      "/tmp/ipykernel_13/3186990507.py:2: DeprecationWarning: `pl.count()` is deprecated. Please use `pl.len()` instead.\n",
      "  uniq_users_counts = df_clickstream.group_by('cookie').agg(pl.count().alias('cnt')).to_pandas()\n"
     ]
    },
    {
     "data": {
      "image/png": "[encoded data removed]",
      "text/plain": [
       "<Figure size 640x480 with 1 Axes>"
      ]
     },
     "metadata": {},
     "output_type": "display_data"
    }
   ],
   "source": [
    "import matplotlib.pyplot as plt\n",
    "uniq_users_counts = df_clickstream.group_by('cookie').agg(pl.count().alias('cnt')).to_pandas()\n",
    "plt.hist(uniq_users_counts['cnt'], bins=50)\n",
    "plt.yscale('log')\n",
    "plt.xlabel('Contacts per user')\n",
    "plt.ylabel('Number of users (log scale)')\n",
    "plt.title('Distribution of user activity')\n",
    "plt.show()"
   ]
  },
  {
   "cell_type": "markdown",
   "id": "7c64359e",
   "metadata": {
    "papermill": {
     "duration": 0.006059,
     "end_time": "2025-06-16T13:42:42.071494",
     "exception": false,
     "start_time": "2025-06-16T13:42:42.065435",
     "status": "completed"
    },
    "tags": []
   },
   "source": [
    "**First 5,000 contacts:**\n",
    "\n",
    "* A visible peak (\\~10² users) → the majority of users perform only a few actions.\n",
    "* Typical for 90–95% of the audience (e.g., 1–5 visits).\n",
    "\n",
    "**5,000–10,000 contacts:**\n",
    "\n",
    "* \\~100 users → a small but notable group with high activity.\n",
    "* Possibly loyal customers or users in extended sessions.\n",
    "\n",
    "**Rare outliers (15,000–20,000 contacts):**\n",
    "\n",
    "* Only 3 users → extremely high activity.\n",
    "* Possible reasons:\n",
    "\n",
    "  * Bots (e.g., data scrapers)\n",
    "  * Technical users (e.g., admins, API integrations)\n",
    "  * Example: if this is website data, 20K contacts ≈ 55 actions per day for a full year.\n"
   ]
  },
  {
   "cell_type": "markdown",
   "id": "705926ff",
   "metadata": {
    "papermill": {
     "duration": 0.00601,
     "end_time": "2025-06-16T13:42:42.083691",
     "exception": false,
     "start_time": "2025-06-16T13:42:42.077681",
     "status": "completed"
    },
    "tags": []
   },
   "source": [
    "Let’s examine the outlier users separately"
   ]
  },
  {
   "cell_type": "code",
   "execution_count": 15,
   "id": "48790031",
   "metadata": {
    "execution": {
     "iopub.execute_input": "2025-06-16T13:42:42.097639Z",
     "iopub.status.busy": "2025-06-16T13:42:42.097311Z",
     "iopub.status.idle": "2025-06-16T13:42:42.107241Z",
     "shell.execute_reply": "2025-06-16T13:42:42.106119Z"
    },
    "papermill": {
     "duration": 0.018795,
     "end_time": "2025-06-16T13:42:42.108841",
     "exception": false,
     "start_time": "2025-06-16T13:42:42.090046",
     "status": "completed"
    },
    "tags": []
   },
   "outputs": [
    {
     "name": "stdout",
     "output_type": "stream",
     "text": [
      "        cookie    cnt\n",
      "79       31003  16341\n",
      "6975     80750  14569\n",
      "15239    76302  13268\n",
      "18288   106596  15734\n",
      "22085    18653  12223\n",
      "23001   123433  12004\n",
      "29688    42209  13625\n",
      "35122   131368  15940\n",
      "36161    10544  12143\n",
      "37174   139243  12812\n",
      "44695    23614  13086\n",
      "51454   100312  14533\n",
      "56879    81716  21711\n",
      "61561    97808  13344\n",
      "61667    67889  13819\n",
      "64490     6003  21680\n",
      "74857   138038  22864\n",
      "75228    53685  12873\n",
      "77734    84110  14782\n",
      "82383   144135  13707\n",
      "82967   116470  18030\n",
      "89246   103159  12096\n",
      "90629   114059  16023\n",
      "92023    47457  12325\n",
      "95253    90083  12107\n",
      "96970   125116  15376\n",
      "97703   100488  12450\n",
      "100071  112222  14867\n",
      "116006   69850  14894\n",
      "117103   60165  12611\n",
      "117814  105631  13778\n",
      "124314  128889  12104\n",
      "126520   71624  13839\n",
      "128974  109534  13917\n"
     ]
    }
   ],
   "source": [
    "high_activity_users = uniq_users_counts[uniq_users_counts[\"cnt\"] > 12000]\n",
    "print(high_activity_users)"
   ]
  },
  {
   "cell_type": "code",
   "execution_count": 16,
   "id": "97bd00c4",
   "metadata": {
    "execution": {
     "iopub.execute_input": "2025-06-16T13:42:42.123670Z",
     "iopub.status.busy": "2025-06-16T13:42:42.123367Z",
     "iopub.status.idle": "2025-06-16T13:42:42.130018Z",
     "shell.execute_reply": "2025-06-16T13:42:42.129024Z"
    },
    "papermill": {
     "duration": 0.015474,
     "end_time": "2025-06-16T13:42:42.131374",
     "exception": false,
     "start_time": "2025-06-16T13:42:42.115900",
     "status": "completed"
    },
    "tags": []
   },
   "outputs": [
    {
     "name": "stdout",
     "output_type": "stream",
     "text": [
      "Users with over 12,000 interactions: 34\n"
     ]
    }
   ],
   "source": [
    "super_active_count = len(uniq_users_counts[uniq_users_counts[\"cnt\"] > 12000])\n",
    "print(f\"Users with over 12,000 interactions: {super_active_count}\")"
   ]
  },
  {
   "cell_type": "code",
   "execution_count": 17,
   "id": "7ae52937",
   "metadata": {
    "execution": {
     "iopub.execute_input": "2025-06-16T13:42:42.145577Z",
     "iopub.status.busy": "2025-06-16T13:42:42.145292Z",
     "iopub.status.idle": "2025-06-16T13:42:42.151062Z",
     "shell.execute_reply": "2025-06-16T13:42:42.150119Z"
    },
    "papermill": {
     "duration": 0.014747,
     "end_time": "2025-06-16T13:42:42.152648",
     "exception": false,
     "start_time": "2025-06-16T13:42:42.137901",
     "status": "completed"
    },
    "tags": []
   },
   "outputs": [
    {
     "data": {
      "text/plain": [
       "92319"
      ]
     },
     "execution_count": 17,
     "metadata": {},
     "output_type": "execute_result"
    }
   ],
   "source": [
    "len(df_test_users)"
   ]
  },
  {
   "cell_type": "code",
   "execution_count": 18,
   "id": "79dab594",
   "metadata": {
    "execution": {
     "iopub.execute_input": "2025-06-16T13:42:42.167608Z",
     "iopub.status.busy": "2025-06-16T13:42:42.167294Z",
     "iopub.status.idle": "2025-06-16T13:42:42.185615Z",
     "shell.execute_reply": "2025-06-16T13:42:42.184336Z"
    },
    "papermill": {
     "duration": 0.027591,
     "end_time": "2025-06-16T13:42:42.187174",
     "exception": false,
     "start_time": "2025-06-16T13:42:42.159583",
     "status": "completed"
    },
    "tags": []
   },
   "outputs": [
    {
     "name": "stdout",
     "output_type": "stream",
     "text": [
      "\n",
      "in test_users: 32 out 34\n",
      "shape: (32, 1)\n",
      "┌────────┐\n",
      "│ cookie │\n",
      "│ ---    │\n",
      "│ i64    │\n",
      "╞════════╡\n",
      "│ 42209  │\n",
      "│ 76302  │\n",
      "│ 106596 │\n",
      "│ 18653  │\n",
      "│ 31003  │\n",
      "│ …      │\n",
      "│ 128889 │\n",
      "│ 71624  │\n",
      "│ 109534 │\n",
      "│ 105631 │\n",
      "│ 60165  │\n",
      "└────────┘\n"
     ]
    }
   ],
   "source": [
    "super_active_cookies = uniq_users_counts[uniq_users_counts[\"cnt\"] > 12000][\"cookie\"].tolist()\n",
    "super_active_cookies_pl = pl.Series(\"cookie\", super_active_cookies)\n",
    "\n",
    "existing_in_test = df_test_users.filter(\n",
    "    pl.col(\"cookie\").is_in(super_active_cookies_pl)\n",
    ")\n",
    "\n",
    "print(f\"\\nin test_users: {existing_in_test.height} out {super_active_count}\")\n",
    "print(existing_in_test)"
   ]
  },
  {
   "cell_type": "code",
   "execution_count": 19,
   "id": "20e6c20e",
   "metadata": {
    "execution": {
     "iopub.execute_input": "2025-06-16T13:42:42.202783Z",
     "iopub.status.busy": "2025-06-16T13:42:42.201844Z",
     "iopub.status.idle": "2025-06-16T13:42:46.002640Z",
     "shell.execute_reply": "2025-06-16T13:42:46.001574Z"
    },
    "papermill": {
     "duration": 3.809914,
     "end_time": "2025-06-16T13:42:46.004075",
     "exception": false,
     "start_time": "2025-06-16T13:42:42.194161",
     "status": "completed"
    },
    "tags": []
   },
   "outputs": [
    {
     "name": "stderr",
     "output_type": "stream",
     "text": [
      "/tmp/ipykernel_13/3853237727.py:1: DeprecationWarning: `pl.count()` is deprecated. Please use `pl.len()` instead.\n",
      "  node_counts = df_clickstream.group_by('node').agg(pl.count().alias('cnt')).to_pandas()\n"
     ]
    },
    {
     "data": {
      "image/png": "[encoded data removed]",
      "text/plain": [
       "<Figure size 640x480 with 1 Axes>"
      ]
     },
     "metadata": {},
     "output_type": "display_data"
    }
   ],
   "source": [
    "node_counts = df_clickstream.group_by('node').agg(pl.count().alias('cnt')).to_pandas()\n",
    "plt.hist(node_counts['cnt'], bins=50)\n",
    "plt.yscale('log')\n",
    "plt.xlabel('Contacts per group')\n",
    "plt.ylabel('Number of groups (log scale)')\n",
    "plt.title('Popularity of item groups')\n",
    "plt.show()"
   ]
  },
  {
   "cell_type": "markdown",
   "id": "f712e3a0",
   "metadata": {
    "papermill": {
     "duration": 0.007386,
     "end_time": "2025-06-16T13:42:46.018955",
     "exception": false,
     "start_time": "2025-06-16T13:42:46.011569",
     "status": "completed"
    },
    "tags": []
   },
   "source": [
    "**X-axis (\"Contacts per group\"):**\n",
    "\n",
    "* A peak around 0.5 indicates that most item groups have very low engagement (roughly 0–1 contact).\n",
    "* The absence of values beyond 1 (except for a few rare outliers) suggests that only a handful of groups generate noticeable activity.\n",
    "\n",
    "**Y-axis (\"Number of groups (log scale)\"):**\n",
    "\n",
    "* The logarithmic scale emphasizes that the number of low-activity groups exceeds even moderately popular ones by orders of magnitude.\n"
   ]
  },
  {
   "cell_type": "code",
   "execution_count": 20,
   "id": "4b342eaf",
   "metadata": {
    "execution": {
     "iopub.execute_input": "2025-06-16T13:42:46.034497Z",
     "iopub.status.busy": "2025-06-16T13:42:46.034109Z",
     "iopub.status.idle": "2025-06-16T13:42:46.040120Z",
     "shell.execute_reply": "2025-06-16T13:42:46.039189Z"
    },
    "papermill": {
     "duration": 0.015494,
     "end_time": "2025-06-16T13:42:46.041530",
     "exception": false,
     "start_time": "2025-06-16T13:42:46.026036",
     "status": "completed"
    },
    "tags": []
   },
   "outputs": [
    {
     "data": {
      "text/plain": [
       "19"
      ]
     },
     "execution_count": 20,
     "metadata": {},
     "output_type": "execute_result"
    }
   ],
   "source": [
    "df_event['event'].n_unique()"
   ]
  },
  {
   "cell_type": "code",
   "execution_count": 21,
   "id": "a1496027",
   "metadata": {
    "execution": {
     "iopub.execute_input": "2025-06-16T13:42:46.057243Z",
     "iopub.status.busy": "2025-06-16T13:42:46.056955Z",
     "iopub.status.idle": "2025-06-16T13:42:46.062641Z",
     "shell.execute_reply": "2025-06-16T13:42:46.061933Z"
    },
    "papermill": {
     "duration": 0.01511,
     "end_time": "2025-06-16T13:42:46.064027",
     "exception": false,
     "start_time": "2025-06-16T13:42:46.048917",
     "status": "completed"
    },
    "tags": []
   },
   "outputs": [
    {
     "data": {
      "text/plain": [
       "2"
      ]
     },
     "execution_count": 21,
     "metadata": {},
     "output_type": "execute_result"
    }
   ],
   "source": [
    "df_event['is_contact'].n_unique()"
   ]
  },
  {
   "cell_type": "code",
   "execution_count": 22,
   "id": "5bc73aa6",
   "metadata": {
    "execution": {
     "iopub.execute_input": "2025-06-16T13:42:46.080118Z",
     "iopub.status.busy": "2025-06-16T13:42:46.079452Z",
     "iopub.status.idle": "2025-06-16T13:42:46.089979Z",
     "shell.execute_reply": "2025-06-16T13:42:46.089069Z"
    },
    "papermill": {
     "duration": 0.020173,
     "end_time": "2025-06-16T13:42:46.091493",
     "exception": false,
     "start_time": "2025-06-16T13:42:46.071320",
     "status": "completed"
    },
    "tags": []
   },
   "outputs": [],
   "source": [
    "event_contact_mapping = (\n",
    "    df_event\n",
    "    .group_by(\"event\")\n",
    "    .agg(pl.col(\"is_contact\").unique().sort())\n",
    "    .sort(\"event\")\n",
    ")"
   ]
  },
  {
   "cell_type": "code",
   "execution_count": 23,
   "id": "63ac99b9",
   "metadata": {
    "execution": {
     "iopub.execute_input": "2025-06-16T13:42:46.107372Z",
     "iopub.status.busy": "2025-06-16T13:42:46.107027Z",
     "iopub.status.idle": "2025-06-16T13:42:46.113943Z",
     "shell.execute_reply": "2025-06-16T13:42:46.113059Z"
    },
    "papermill": {
     "duration": 0.01669,
     "end_time": "2025-06-16T13:42:46.115560",
     "exception": false,
     "start_time": "2025-06-16T13:42:46.098870",
     "status": "completed"
    },
    "tags": []
   },
   "outputs": [
    {
     "data": {
      "text/html": [
       "<div><style>\n",
       ".dataframe > thead > tr,\n",
       ".dataframe > tbody > tr {\n",
       "  text-align: right;\n",
       "  white-space: pre-wrap;\n",
       "}\n",
       "</style>\n",
       "<small>shape: (10, 2)</small><table border=\"1\" class=\"dataframe\"><thead><tr><th>event</th><th>is_contact</th></tr><tr><td>i64</td><td>list[i64]</td></tr></thead><tbody><tr><td>0</td><td>[1]</td></tr><tr><td>1</td><td>[1]</td></tr><tr><td>2</td><td>[1]</td></tr><tr><td>3</td><td>[0]</td></tr><tr><td>4</td><td>[1]</td></tr><tr><td>5</td><td>[1]</td></tr><tr><td>6</td><td>[1]</td></tr><tr><td>8</td><td>[0]</td></tr><tr><td>9</td><td>[1]</td></tr><tr><td>10</td><td>[1]</td></tr></tbody></table></div>"
      ],
      "text/plain": [
       "shape: (10, 2)\n",
       "┌───────┬────────────┐\n",
       "│ event ┆ is_contact │\n",
       "│ ---   ┆ ---        │\n",
       "│ i64   ┆ list[i64]  │\n",
       "╞═══════╪════════════╡\n",
       "│ 0     ┆ [1]        │\n",
       "│ 1     ┆ [1]        │\n",
       "│ 2     ┆ [1]        │\n",
       "│ 3     ┆ [0]        │\n",
       "│ 4     ┆ [1]        │\n",
       "│ 5     ┆ [1]        │\n",
       "│ 6     ┆ [1]        │\n",
       "│ 8     ┆ [0]        │\n",
       "│ 9     ┆ [1]        │\n",
       "│ 10    ┆ [1]        │\n",
       "└───────┴────────────┘"
      ]
     },
     "execution_count": 23,
     "metadata": {},
     "output_type": "execute_result"
    }
   ],
   "source": [
    "event_contact_mapping.head(10)"
   ]
  },
  {
   "cell_type": "code",
   "execution_count": 24,
   "id": "6c64be96",
   "metadata": {
    "execution": {
     "iopub.execute_input": "2025-06-16T13:42:46.131732Z",
     "iopub.status.busy": "2025-06-16T13:42:46.131404Z",
     "iopub.status.idle": "2025-06-16T13:42:46.137746Z",
     "shell.execute_reply": "2025-06-16T13:42:46.136785Z"
    },
    "papermill": {
     "duration": 0.016012,
     "end_time": "2025-06-16T13:42:46.139141",
     "exception": false,
     "start_time": "2025-06-16T13:42:46.123129",
     "status": "completed"
    },
    "tags": []
   },
   "outputs": [
    {
     "data": {
      "text/html": [
       "<div><style>\n",
       ".dataframe > thead > tr,\n",
       ".dataframe > tbody > tr {\n",
       "  text-align: right;\n",
       "  white-space: pre-wrap;\n",
       "}\n",
       "</style>\n",
       "<small>shape: (10, 2)</small><table border=\"1\" class=\"dataframe\"><thead><tr><th>event</th><th>is_contact</th></tr><tr><td>i64</td><td>list[i64]</td></tr></thead><tbody><tr><td>10</td><td>[1]</td></tr><tr><td>11</td><td>[0]</td></tr><tr><td>12</td><td>[0]</td></tr><tr><td>13</td><td>[1]</td></tr><tr><td>14</td><td>[1]</td></tr><tr><td>15</td><td>[1]</td></tr><tr><td>16</td><td>[0]</td></tr><tr><td>17</td><td>[0]</td></tr><tr><td>18</td><td>[1]</td></tr><tr><td>19</td><td>[1]</td></tr></tbody></table></div>"
      ],
      "text/plain": [
       "shape: (10, 2)\n",
       "┌───────┬────────────┐\n",
       "│ event ┆ is_contact │\n",
       "│ ---   ┆ ---        │\n",
       "│ i64   ┆ list[i64]  │\n",
       "╞═══════╪════════════╡\n",
       "│ 10    ┆ [1]        │\n",
       "│ 11    ┆ [0]        │\n",
       "│ 12    ┆ [0]        │\n",
       "│ 13    ┆ [1]        │\n",
       "│ 14    ┆ [1]        │\n",
       "│ 15    ┆ [1]        │\n",
       "│ 16    ┆ [0]        │\n",
       "│ 17    ┆ [0]        │\n",
       "│ 18    ┆ [1]        │\n",
       "│ 19    ┆ [1]        │\n",
       "└───────┴────────────┘"
      ]
     },
     "execution_count": 24,
     "metadata": {},
     "output_type": "execute_result"
    }
   ],
   "source": [
    "event_contact_mapping.tail(10)"
   ]
  },
  {
   "cell_type": "code",
   "execution_count": 25,
   "id": "93b61175",
   "metadata": {
    "execution": {
     "iopub.execute_input": "2025-06-16T13:42:46.157108Z",
     "iopub.status.busy": "2025-06-16T13:42:46.156809Z",
     "iopub.status.idle": "2025-06-16T13:42:47.664700Z",
     "shell.execute_reply": "2025-06-16T13:42:47.663684Z"
    },
    "papermill": {
     "duration": 1.518307,
     "end_time": "2025-06-16T13:42:47.666352",
     "exception": false,
     "start_time": "2025-06-16T13:42:46.148045",
     "status": "completed"
    },
    "tags": []
   },
   "outputs": [
    {
     "name": "stderr",
     "output_type": "stream",
     "text": [
      "/tmp/ipykernel_13/3559457963.py:3: DeprecationWarning: `GroupBy.count` is deprecated. It has been renamed to `len`.\n",
      "  ]).group_by('day').count().to_pandas()\n"
     ]
    },
    {
     "data": {
      "image/png": "[encoded data removed]",
      "text/plain": [
       "<Figure size 640x480 with 1 Axes>"
      ]
     },
     "metadata": {},
     "output_type": "display_data"
    }
   ],
   "source": [
    "dates = df_clickstream.select([\n",
    "    pl.col('event_date').dt.date().alias('day')\n",
    "]).group_by('day').count().to_pandas()\n",
    "plt.plot(dates['day'], dates['count'])\n",
    "plt.xlabel('Date')\n",
    "plt.ylabel('Number of contacts')\n",
    "plt.title('Dynamics of contact events')\n",
    "plt.xticks(rotation=45)\n",
    "plt.show()"
   ]
  },
  {
   "cell_type": "code",
   "execution_count": null,
   "id": "cf87f01f",
   "metadata": {
    "papermill": {
     "duration": 0.008295,
     "end_time": "2025-06-16T13:42:47.683888",
     "exception": false,
     "start_time": "2025-06-16T13:42:47.675593",
     "status": "completed"
    },
    "tags": []
   },
   "outputs": [],
   "source": []
  }
 ],
 "metadata": {
  "kaggle": {
   "accelerator": "none",
   "dataSources": [
    {
     "datasetId": 7469532,
     "sourceId": 11884509,
     "sourceType": "datasetVersion"
    }
   ],
   "dockerImageVersionId": 31040,
   "isGpuEnabled": false,
   "isInternetEnabled": true,
   "language": "python",
   "sourceType": "notebook"
  },
  "kernelspec": {
   "display_name": "Python 3",
   "language": "python",
   "name": "python3"
  },
  "language_info": {
   "codemirror_mode": {
    "name": "ipython",
    "version": 3
   },
   "file_extension": ".py",
   "mimetype": "text/x-python",
   "name": "python",
   "nbconvert_exporter": "python",
   "pygments_lexer": "ipython3",
   "version": "3.11.11"
  },
  "papermill": {
   "default_parameters": {},
   "duration": 84.843062,
   "end_time": "2025-06-16T13:42:49.421627",
   "environment_variables": {},
   "exception": null,
   "input_path": "__notebook__.ipynb",
   "output_path": "__notebook__.ipynb",
   "parameters": {},
   "start_time": "2025-06-16T13:41:24.578565",
   "version": "2.6.0"
  }
 },
 "nbformat": 4,
 "nbformat_minor": 5
}
